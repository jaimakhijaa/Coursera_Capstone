{
  "nbformat": 4,
  "nbformat_minor": 0,
  "metadata": {
    "colab": {
      "name": "Part 2 - The Battle of Neighborhoods.ipynb",
      "provenance": [],
      "collapsed_sections": [],
      "toc_visible": true,
      "authorship_tag": "ABX9TyPv8Qh23Lb6mUdfu8e9pX/S"
    },
    "kernelspec": {
      "name": "python3",
      "display_name": "Python 3"
    }
  },
  "cells": [
    {
      "cell_type": "markdown",
      "metadata": {
        "id": "DUSIW8zygKmj",
        "colab_type": "text"
      },
      "source": [
        "**Week 4 Part 2 - The Battle of Neighborhoods**\n",
        "\n",
        "### Title : Restaurant recommender system in Bengaluru\n",
        "\n",
        "Data requirements :\n",
        "To find a solution to the question which is a restaurant in Bengaluru and build a recommender model, we would be needing data and lots of data. Data can answer questions which are unimaginable and non answerable by humans because humans do not have the tendency to analyse such large dataset and produce analtics to find a solutions.\n",
        "\n",
        "Let's consider the base scenario :\n",
        "\n",
        "Suppose I want to find a restaurant, then I would need:\n",
        "\n",
        "- It's geographical coordinates (latitide and longitude) to find our where exactly it is located.\n",
        "- Population of the neighborhood where the restaurant is located.\n",
        "- Average income of neighborhood to know how much is the restaurant worth.\n",
        "\n",
        "Lets take a closer look at each of these :\n",
        "\n",
        "To access location of a restaurant, its Latitude and Longitude is to be known so that we can point at its coordinates and create a map displaying all the restaurants with its labels respectively.\n",
        "\n",
        "Population of a neighborhood is very important factor in determining a restaurant's growth and amount of customers who turn up to eat. Logically, the more the population of a neighborhood, the more people will be interested to walk openly into a restaurant and less the population, less number of people frequently visit a restaurant. Also if more people visit, better the restaurant is rated because it is accessed by different people with different taste. Hence is is very important factor.\n",
        "\n",
        "Income of a neighborhood is also very important factor as population was. Income is directly proportional to richness of a neighborhood. If people in a neighborhood earns more than an average income, then it is very much possible that they will spend more however not always true with very less probability. So an restaurant accessment is proportional to income of a neighborhood.\n",
        "\n",
        "Data collection :\n",
        "- Collecting geographical coordinates is not difficult but after searching, it was not available on open source data websites such as Wikipedia, the Indian government website, census report websites etc. Hence, I decided to use Google maps API to fetch latitude and longitude but Google API has limited number of calls that I could make with my free account. So it would take around 15 - 20 days to fetch location of all the neighborhoods in Bangalore. Initially, I scrapped list of neighbor's using beautifulSoup4 from Wikipedia. The table headings becoming the boroughs and data becoming the neighborhoods. Bengaluru has 8 boroughs and 64 neighborhoods. So I manually searched each neighbourhood to find its corresponding latitude and longitude. After doing so, I produced the following dataframe.\n",
        "\n",
        "- Population by neighborhood is again easy to find out given that its readily available. But incase of bangalore, it is again not the case. i was able to find population data for few cities. Here is the link. Rest other neighborhood population is assumed and may be inaccurate but since this is a demonstrating project, the main idea to get the working model.\n",
        "\n",
        "- Income by neighborhood is again easy to find out given that its readily available. But incase of bangalore, it is again not the case. i was able to find income data for main city. Neighborhood Income is assumed and may be inaccurate but since this is a demonstrating project, the main idea to get the working model. \n",
        "\n",
        "- Use of foursquare is focused to fetch nearest venue locations so that we can use them to form a cluster. Foursquare API leverages the power of finding nearest venues in a radius(in my case : 500mts) and also corresponding coordinates,venue location and names. "
      ]
    }
  ]
}