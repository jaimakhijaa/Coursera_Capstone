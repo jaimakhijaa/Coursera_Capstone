{
  "nbformat": 4,
  "nbformat_minor": 0,
  "metadata": {
    "colab": {
      "name": "Coursera_Capstone",
      "provenance": [],
      "collapsed_sections": [],
      "authorship_tag": "ABX9TyNN2HupPtbC3PvoF3kBpe9z",
      "include_colab_link": true
    },
    "kernelspec": {
      "name": "python3",
      "display_name": "Python 3"
    }
  },
  "cells": [
    {
      "cell_type": "markdown",
      "metadata": {
        "id": "view-in-github",
        "colab_type": "text"
      },
      "source": [
        "<a href=\"https://colab.research.google.com/github/jaimakhijaa/Coursera_Capstone/blob/master/Coursera_Capstone.ipynb\" target=\"_parent\"><img src=\"https://colab.research.google.com/assets/colab-badge.svg\" alt=\"Open In Colab\"/></a>"
      ]
    },
    {
      "cell_type": "markdown",
      "metadata": {
        "id": "9VpZF6bYYdTn",
        "colab_type": "text"
      },
      "source": [
        "1. Write some markdown to explain that this notebook will be mainly used for the capstone project."
      ]
    },
    {
      "cell_type": "markdown",
      "metadata": {
        "id": "IwBQ2xh_Yk-g",
        "colab_type": "text"
      },
      "source": [
        "Hello, this is the first assignment for the Applied Data Science Capstone course by Coursera."
      ]
    },
    {
      "cell_type": "markdown",
      "metadata": {
        "id": "dE9eZTQ0Y8cR",
        "colab_type": "text"
      },
      "source": [
        "2. Import the pandas library as pd."
      ]
    },
    {
      "cell_type": "code",
      "metadata": {
        "id": "dEu1oo9CY5KI",
        "colab_type": "code",
        "colab": {}
      },
      "source": [
        "import pandas as pd"
      ],
      "execution_count": 2,
      "outputs": []
    },
    {
      "cell_type": "markdown",
      "metadata": {
        "id": "GOTi4vXIZDpI",
        "colab_type": "text"
      },
      "source": [
        "3. Import the Numpy library as np."
      ]
    },
    {
      "cell_type": "code",
      "metadata": {
        "id": "g6a9fLRmZCnR",
        "colab_type": "code",
        "colab": {}
      },
      "source": [
        "import numpy as np"
      ],
      "execution_count": 3,
      "outputs": []
    },
    {
      "cell_type": "markdown",
      "metadata": {
        "id": "D4DLd_BNZRoC",
        "colab_type": "text"
      },
      "source": [
        "4. Print the following the statement: Hello Capstone Project Course!"
      ]
    },
    {
      "cell_type": "code",
      "metadata": {
        "id": "OMOT795bZPPs",
        "colab_type": "code",
        "colab": {
          "base_uri": "https://localhost:8080/",
          "height": 34
        },
        "outputId": "2d12ddd2-28f3-4ff6-f8aa-45d190cf9854"
      },
      "source": [
        "print(\"Hello Capstone Project Course!\")"
      ],
      "execution_count": 4,
      "outputs": [
        {
          "output_type": "stream",
          "text": [
            "Hello Capstone Project Course!\n"
          ],
          "name": "stdout"
        }
      ]
    },
    {
      "cell_type": "code",
      "metadata": {
        "id": "xalb5-ltZbKv",
        "colab_type": "code",
        "colab": {}
      },
      "source": [
        ""
      ],
      "execution_count": null,
      "outputs": []
    }
  ]
}